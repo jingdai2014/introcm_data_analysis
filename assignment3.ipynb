{
 "cells": [
  {
   "cell_type": "code",
   "execution_count": 3,
   "metadata": {
    "collapsed": false
   },
   "outputs": [],
   "source": [
    "import json\n",
    "import numpy as np\n",
    "from textblob import TextBlob\n",
    "\n",
    "userdict={}\n",
    "with open('./yelp/user.json') as user_file:\n",
    "    for line in user_file:\n",
    "        d=json.loads(line)\n",
    "        if (d[\"review_count\"]>150):\n",
    "            userdict[d[\"user_id\"]] = d[\"review_count\"] "
   ]
  },
  {
   "cell_type": "code",
   "execution_count": 4,
   "metadata": {
    "collapsed": false
   },
   "outputs": [],
   "source": [
    "count={}\n",
    "with open('./yelp/review.json') as review_file:\n",
    "    for line in review_file:\n",
    "        d=json.loads(line)        \n",
    "        if (d[\"user_id\"] in count):\n",
    "            count[d[\"user_id\"]]+=1\n",
    "        else:\n",
    "            count[d[\"user_id\"]]=1\n",
    "\n",
    "userlist=[]\n",
    "for key in count:\n",
    "    if (count[key]>100):\n",
    "        userlist.append(key)\n"
   ]
  },
  {
   "cell_type": "code",
   "execution_count": 5,
   "metadata": {
    "collapsed": false
   },
   "outputs": [],
   "source": [
    "uid = userlist[0]\n",
    "reviewdict={}\n",
    "with open('./yelp/review.json') as review_file:\n",
    "    for line in review_file:\n",
    "        d=json.loads(line)\n",
    "        if (d[\"user_id\"]==uid):\n",
    "            key=int(d[\"date\"].replace(\"-\", \"\")+\"00\")\n",
    "            while (key in reviewdict):\n",
    "                key+=1\n",
    "            ls = [d[\"business_id\"], d[\"stars\"], d[\"text\"]]\n",
    "            reviewdict[key] = ls"
   ]
  },
  {
   "cell_type": "code",
   "execution_count": 6,
   "metadata": {
    "collapsed": false
   },
   "outputs": [],
   "source": [
    "dates = sorted(reviewdict, key=reviewdict.get)"
   ]
  },
  {
   "cell_type": "code",
   "execution_count": 7,
   "metadata": {
    "collapsed": false,
    "scrolled": true
   },
   "outputs": [
    {
     "name": "stdout",
     "output_type": "stream",
     "text": [
      "3.76666666667\n",
      "0.338488578576\n"
     ]
    }
   ],
   "source": [
    "n_stars=[]\n",
    "n_sentiments= []\n",
    "for i in range(30):\n",
    "    n_stars.append(reviewdict[dates[i]][1])\n",
    "    review_text = reviewdict[dates[i]][2]\n",
    "    blob = TextBlob(review_text)\n",
    "    n_sentiments.append(blob.sentiment.polarity)\n",
    "\n",
    "    \n",
    "print np.mean(n_stars)\n",
    "print np.mean(n_sentiments)"
   ]
  },
  {
   "cell_type": "code",
   "execution_count": 8,
   "metadata": {
    "collapsed": false
   },
   "outputs": [
    {
     "name": "stdout",
     "output_type": "stream",
     "text": [
      "[2014092900, 2011101400, 2014081200, 2011072400, 2011051303, 2010050800, 2011052301, 2011051302, 2011031901, 2012032800, 2010040300, 2011060300, 2011111304, 2011060303, 2010061301, 2012081900, 2014011401, 2011100705, 2011010101, 2014042207, 2013091800, 2013121105, 2010030600, 2010052201, 2011112800, 2010042500, 2012021200, 2010050802, 2011072901, 2011111303]\n"
     ]
    }
   ],
   "source": [
    "#randomly choose 30 reviews for prediction\n",
    "import random\n",
    "dates2 = dates[30:]\n",
    "random.shuffle(dates2)\n",
    "dates2 = dates2[:30]\n",
    "print dates2"
   ]
  },
  {
   "cell_type": "code",
   "execution_count": 9,
   "metadata": {
    "collapsed": false
   },
   "outputs": [
    {
     "name": "stdout",
     "output_type": "stream",
     "text": [
      "61184\n"
     ]
    }
   ],
   "source": [
    "businessdict = {}\n",
    "with open('./yelp/business.json') as business_file:\n",
    "    for line in business_file:\n",
    "        d=json.loads(line)\n",
    "        businessdict[d[\"business_id\"]] = d[\"stars\"]\n",
    "print len(businessdict)"
   ]
  },
  {
   "cell_type": "code",
   "execution_count": 10,
   "metadata": {
    "collapsed": false
   },
   "outputs": [
    {
     "name": "stdout",
     "output_type": "stream",
     "text": [
      "[3.5, 4.5, 4.0, 4.0, 3.5, 4.0, 4.0, 3.5, 4.0, 4.5, 3.5, 4.5, 4.0, 4.5, 4.0, 4.0, 4.5, 3.5, 4.5, 3.5, 4.0, 4.5, 4.0, 3.5, 4.0, 4.5, 4.5, 3.5, 4.0, 3.5]\n",
      "[2, 4, 4, 3, 4, 4, 4, 4, 5, 4, 4, 3, 4, 3, 4, 4, 3, 3, 4, 4, 4, 5, 4, 4, 5, 3, 5, 3, 4, 3]\n",
      "[-0.08333333333333334, 0.2913469106650925, 0.190625, 0.5166666666666666, 0.30666666666666675, 0.3374868247694335, 0.1330357142857143, 0.24903846153846157, 0.2890625, 0.4708333333333334, 0.178125, 0.14375, 0.34687499999999993, 0.34845679012345676, 0.40285714285714286, 0.3687500000000001, 0.5333333333333333, -0.008928571428571432, 0.3507954545454546, 0.47880952380952374, 0.3199285714285714, 0.42750000000000005, 0.3372727272727273, 0.016666666666666653, 0.4383653846153846, 0.22366071428571432, 0.4666666666666666, 0.36178571428571427, 0.3, 0.13999999999999999]\n"
     ]
    }
   ],
   "source": [
    "#get the sentiment of the current review and the rate\n",
    "actual_stars=[]\n",
    "pred_sentiments=[]\n",
    "business_stars=[]\n",
    "for date in dates2:\n",
    "    business_stars.append(businessdict[reviewdict[date][0]])\n",
    "    actual_stars.append(reviewdict[date][1])\n",
    "    pred_text = reviewdict[date][2]\n",
    "    blob = TextBlob(pred_text)\n",
    "    pred_sentiments.append(blob.sentiment.polarity)\n",
    "print business_stars\n",
    "print actual_stars\n",
    "print pred_sentiments\n",
    "\n"
   ]
  },
  {
   "cell_type": "code",
   "execution_count": 11,
   "metadata": {
    "collapsed": false
   },
   "outputs": [
    {
     "name": "stdout",
     "output_type": "stream",
     "text": [
      "0.0859613782479\n"
     ]
    }
   ],
   "source": [
    "rate=[]\n",
    "for i in range(30):\n",
    "    rate.append(n_sentiments[i]/n_stars[i])\n",
    "avg_rate= np.mean(rate)\n",
    "print avg_rate"
   ]
  },
  {
   "cell_type": "code",
   "execution_count": 14,
   "metadata": {
    "collapsed": false
   },
   "outputs": [],
   "source": [
    "test_rate=[]\n",
    "for i in range(30):\n",
    "    test_rate.append(pred_sentiments[i]/actual_stars[i]-avg_rate)\n"
   ]
  },
  {
   "cell_type": "code",
   "execution_count": 18,
   "metadata": {
    "collapsed": false
   },
   "outputs": [
    {
     "name": "stdout",
     "output_type": "stream",
     "text": [
      "[2.7121118868929917, 3.6488124968890565, 3.3970077202263251, 4.2121118868929921, 3.6871118868929922, 3.764162282149909, 3.2530345059406107, 3.5430413740724793, 3.6431014702263251, 4.0975285535596591, 3.3657577202263251, 3.2798202202263251, 3.7876327202263251, 3.7915871955349671, 3.9275880773691823, 3.8423202202263256, 4.2537785535596582, 2.8981237916548963, 3.7974338565899615, 4.1174690297501346, 3.7202666487977538, 3.9891952202263252, 3.7636270384081434, 2.9621118868929921, 4.0163586817647863, 3.4795970059406112, 4.0871118868929921, 3.8249095059406111, 3.6704452202263251, 3.2704452202263252]\n",
      "[2, 4, 4, 3, 4, 4, 4, 4, 5, 4, 4, 3, 4, 3, 4, 4, 3, 3, 4, 4, 4, 5, 4, 4, 5, 3, 5, 3, 4, 3]\n",
      "[3.5, 4.5, 4.0, 4.0, 3.5, 4.0, 4.0, 3.5, 4.0, 4.5, 3.5, 4.5, 4.0, 4.5, 4.0, 4.0, 4.5, 3.5, 4.5, 3.5, 4.0, 4.5, 4.0, 3.5, 4.0, 4.5, 4.5, 3.5, 4.0, 3.5]\n"
     ]
    }
   ],
   "source": [
    "#calculate the predicted rating based on users average sentiment\n",
    "pred_stars=[]\n",
    "avg_stars=np.mean(n_stars)\n",
    "avg_sentiments = np.mean(n_sentiments)\n",
    "for i in range(30):\n",
    "    pred=(pred_sentiments[i]-avg_sentiments)/2*5+avg_stars\n",
    "    pred=min(5, pred)\n",
    "    pred=max(1, pred)\n",
    "    pred_stars.append(pred)\n",
    "print pred_stars\n",
    "print actual_stars\n",
    "print business_stars\n",
    "    \n",
    "        \n"
   ]
  },
  {
   "cell_type": "code",
   "execution_count": 22,
   "metadata": {
    "collapsed": false
   },
   "outputs": [
    {
     "name": "stdout",
     "output_type": "stream",
     "text": [
      "0.666666666667\n"
     ]
    }
   ],
   "source": [
    "count=0\n",
    "for i in range(30):\n",
    "    if (business_stars[i]-pred_stars[i])*(actual_stars[i]-pred_stars[i])>0:\n",
    "        count+=1\n",
    "\n",
    "print count/30.0"
   ]
  },
  {
   "cell_type": "code",
   "execution_count": null,
   "metadata": {
    "collapsed": true
   },
   "outputs": [],
   "source": [
    "from textblob import TextBlob\n",
    "\n",
    "text = \"\"\n",
    "blob = TextBlob(text)\n",
    "print blob.sentiment.polarity\n",
    "print blob.sentiment.subjectivity\n",
    "for sentence in blob.sentences:\n",
    "   print sentence.sentiment.polarity\n",
    "   print sentence.sentiment.subjectivity\n",
    "    "
   ]
  }
 ],
 "metadata": {
  "kernelspec": {
   "display_name": "Python 2",
   "language": "python",
   "name": "python2"
  },
  "language_info": {
   "codemirror_mode": {
    "name": "ipython",
    "version": 2
   },
   "file_extension": ".py",
   "mimetype": "text/x-python",
   "name": "python",
   "nbconvert_exporter": "python",
   "pygments_lexer": "ipython2",
   "version": "2.7.6"
  }
 },
 "nbformat": 4,
 "nbformat_minor": 0
}
